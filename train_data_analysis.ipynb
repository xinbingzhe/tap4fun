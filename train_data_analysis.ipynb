{
 "cells": [
  {
   "cell_type": "code",
   "execution_count": 1,
   "metadata": {
    "collapsed": true
   },
   "outputs": [],
   "source": [
    "import pandas as pd\n",
    "\n",
    "\n",
    "train_pth = '~/Desktop/xbz/download/tap4fun_data/tap_fun_train.csv'\n",
    "\n",
    "eval_pth = '~/Desktop/xbz/download/tap4fun_data/tap_fun_test.csv'\n",
    "\n",
    "\n",
    "df_tr = pd.read_csv(train_pth)\n",
    "\n",
    "df_te = pd.read_csv(eval_pth)"
   ]
  },
  {
   "cell_type": "code",
   "execution_count": 2,
   "metadata": {},
   "outputs": [
    {
     "name": "stdout",
     "output_type": "stream",
     "text": [
      "(2288007, 109)\n",
      "(828934, 108)\n"
     ]
    }
   ],
   "source": [
    "print(df_tr.shape)\n",
    "print(df_te.shape)"
   ]
  },
  {
   "cell_type": "code",
   "execution_count": 4,
   "metadata": {},
   "outputs": [
    {
     "name": "stdout",
     "output_type": "stream",
     "text": [
      "2018\n"
     ]
    }
   ],
   "source": [
    "print(df_tr['register_time'][0][:4]) "
   ]
  },
  {
   "cell_type": "code",
   "execution_count": 11,
   "metadata": {},
   "outputs": [
    {
     "name": "stdout",
     "output_type": "stream",
     "text": [
      "11.741103057664969\n"
     ]
    }
   ],
   "source": [
    "print(df_te['avg_online_minutes'].mean())"
   ]
  },
  {
   "cell_type": "code",
   "execution_count": 12,
   "metadata": {
    "collapsed": true
   },
   "outputs": [],
   "source": [
    "df_sa = df_tr.sample(frac = 0.1)"
   ]
  },
  {
   "cell_type": "code",
   "execution_count": 13,
   "metadata": {},
   "outputs": [
    {
     "name": "stdout",
     "output_type": "stream",
     "text": [
      "10.233039506616704\n"
     ]
    }
   ],
   "source": [
    "print(df_sa['avg_online_minutes'].mean())"
   ]
  },
  {
   "cell_type": "code",
   "execution_count": 14,
   "metadata": {},
   "outputs": [
    {
     "name": "stdout",
     "output_type": "stream",
     "text": [
      "0.5531523900682428\n"
     ]
    }
   ],
   "source": [
    "print(df_sa['pay_price'].mean())"
   ]
  },
  {
   "cell_type": "code",
   "execution_count": 15,
   "metadata": {
    "collapsed": true
   },
   "outputs": [],
   "source": [
    "import matplotlib.pyplot as plt\n",
    "\n",
    "x = df_tr['pay_count'].tolist()\n",
    "y = df_tr['prediction_pay_price'].tolist()"
   ]
  },
  {
   "cell_type": "code",
   "execution_count": 20,
   "metadata": {},
   "outputs": [
    {
     "data": {
      "text/plain": [
       "<matplotlib.collections.PathCollection at 0x144d797b8>"
      ]
     },
     "execution_count": 20,
     "metadata": {},
     "output_type": "execute_result"
    }
   ],
   "source": [
    "plt.scatter(x,y,s=3)"
   ]
  },
  {
   "cell_type": "code",
   "execution_count": 21,
   "metadata": {},
   "outputs": [
    {
     "data": {
      "image/png": "[encoded data removed]",
      "text/plain": [
       "<matplotlib.figure.Figure at 0x116f33eb8>"
      ]
     },
     "metadata": {},
     "output_type": "display_data"
    }
   ],
   "source": [
    "plt.show()"
   ]
  },
  {
   "cell_type": "code",
   "execution_count": 22,
   "metadata": {},
   "outputs": [
    {
     "name": "stdout",
     "output_type": "stream",
     "text": [
      "1.7931457858311572\n"
     ]
    }
   ],
   "source": [
    "print(df_tr['prediction_pay_price'].mean())"
   ]
  },
  {
   "cell_type": "code",
   "execution_count": 7,
   "metadata": {},
   "outputs": [
    {
     "name": "stdout",
     "output_type": "stream",
     "text": [
      "2018-02-02\n"
     ]
    }
   ],
   "source": [
    "print(df_tr['register_time'][0][:10])"
   ]
  },
  {
   "cell_type": "code",
   "execution_count": 9,
   "metadata": {},
   "outputs": [],
   "source": [
    "df_tr['register_date'] = df_tr['register_time'].apply(lambda x : x[:10])"
   ]
  },
  {
   "cell_type": "code",
   "execution_count": 19,
   "metadata": {},
   "outputs": [
    {
     "name": "stdout",
     "output_type": "stream",
     "text": [
      "2018-02-19    117311\n",
      "2018-02-20     92860\n",
      "2018-02-01     83245\n",
      "2018-01-28     79227\n",
      "2018-02-15     78707\n",
      "2018-02-08     72402\n",
      "2018-02-07     71576\n",
      "2018-01-27     70417\n",
      "2018-01-26     70250\n",
      "2018-01-29     63803\n",
      "2018-02-05     60998\n",
      "2018-02-04     60421\n",
      "2018-02-02     60173\n",
      "2018-02-18     59447\n",
      "2018-02-06     57203\n",
      "2018-01-31     56522\n",
      "2018-02-16     56355\n",
      "2018-02-14     54419\n",
      "2018-02-11     54014\n",
      "2018-02-10     53521\n",
      "2018-02-12     52231\n",
      "2018-02-03     51659\n",
      "2018-03-04     50989\n",
      "2018-02-13     50638\n",
      "2018-01-30     50201\n",
      "2018-02-09     50143\n",
      "2018-02-25     49835\n",
      "2018-03-03     48970\n",
      "2018-02-24     45648\n",
      "2018-03-05     44726\n",
      "2018-02-23     44635\n",
      "2018-02-17     44477\n",
      "2018-02-21     43720\n",
      "2018-02-28     42928\n",
      "2018-03-02     42775\n",
      "2018-02-26     42647\n",
      "2018-02-22     42110\n",
      "2018-03-06     41438\n",
      "2018-02-27     39140\n",
      "2018-03-01     36226\n",
      "Name: register_date, dtype: int64\n"
     ]
    }
   ],
   "source": [
    "print(df_tr['register_date'].value_counts())"
   ]
  },
  {
   "cell_type": "code",
   "execution_count": 12,
   "metadata": {},
   "outputs": [],
   "source": [
    "group_pay_price = df_tr['prediction_pay_price'].groupby(df_tr['register_date'])"
   ]
  },
  {
   "cell_type": "code",
   "execution_count": 13,
   "metadata": {},
   "outputs": [
    {
     "name": "stdout",
     "output_type": "stream",
     "text": [
      "register_date\n",
      "2018-01-26    2.531605\n",
      "2018-01-27    1.478289\n",
      "2018-01-28    1.564860\n",
      "2018-01-29    1.968573\n",
      "2018-01-30    2.611330\n",
      "2018-01-31    1.282555\n",
      "2018-02-01    1.115531\n",
      "2018-02-02    2.637897\n",
      "2018-02-03    2.924625\n",
      "2018-02-04    1.456603\n",
      "2018-02-05    2.119462\n",
      "2018-02-06    1.495472\n",
      "2018-02-07    1.114750\n",
      "2018-02-08    1.817680\n",
      "2018-02-09    2.816155\n",
      "2018-02-10    2.298998\n",
      "2018-02-11    1.207988\n",
      "2018-02-12    2.579275\n",
      "2018-02-13    1.756665\n",
      "2018-02-14    0.955617\n",
      "2018-02-15    0.758304\n",
      "2018-02-16    2.337980\n",
      "2018-02-17    1.977804\n",
      "2018-02-18    1.731529\n",
      "2018-02-19    1.013487\n",
      "2018-02-20    1.104992\n",
      "2018-02-21    1.663391\n",
      "2018-02-22    1.882678\n",
      "2018-02-23    3.345085\n",
      "2018-02-24    1.781091\n",
      "2018-02-25    1.800227\n",
      "2018-02-26    2.917201\n",
      "2018-02-27    1.326111\n",
      "2018-02-28    1.894962\n",
      "2018-03-01    1.885952\n",
      "2018-03-02    2.073441\n",
      "2018-03-03    1.298870\n",
      "2018-03-04    1.339248\n",
      "2018-03-05    2.260338\n",
      "2018-03-06    2.937021\n",
      "Name: prediction_pay_price, dtype: float64\n"
     ]
    }
   ],
   "source": [
    "print(group_pay_price.mean())"
   ]
  },
  {
   "cell_type": "code",
   "execution_count": 14,
   "metadata": {
    "collapsed": true
   },
   "outputs": [],
   "source": [
    "df_te['register_date'] = df_te['register_time'].apply(lambda x : x[:10])"
   ]
  },
  {
   "cell_type": "code",
   "execution_count": 15,
   "metadata": {},
   "outputs": [
    {
     "name": "stdout",
     "output_type": "stream",
     "text": [
      "2018-03-10    114035\n",
      "2018-03-13     63141\n",
      "2018-03-09     62117\n",
      "2018-03-11     59038\n",
      "2018-03-16     51064\n",
      "2018-03-17     47506\n",
      "2018-03-21     46736\n",
      "2018-03-12     45172\n",
      "2018-03-14     44502\n",
      "2018-03-18     44449\n",
      "2018-03-19     43487\n",
      "2018-03-15     42782\n",
      "2018-03-22     42363\n",
      "2018-03-07     42050\n",
      "2018-03-20     40666\n",
      "2018-03-08     39826\n",
      "Name: register_date, dtype: int64\n"
     ]
    }
   ],
   "source": [
    "print(df_te['register_date'].value_counts())"
   ]
  },
  {
   "cell_type": "code",
   "execution_count": 17,
   "metadata": {},
   "outputs": [
    {
     "name": "stdout",
     "output_type": "stream",
     "text": [
      "51808.375\n"
     ]
    }
   ],
   "source": [
    "print(df_te['register_date'].value_counts().mean())"
   ]
  },
  {
   "cell_type": "code",
   "execution_count": null,
   "metadata": {
    "collapsed": true
   },
   "outputs": [],
   "source": []
  }
 ],
 "metadata": {
  "kernelspec": {
   "display_name": "Python 3",
   "language": "python",
   "name": "python3"
  },
  "language_info": {
   "codemirror_mode": {
    "name": "ipython",
    "version": 3
   },
   "file_extension": ".py",
   "mimetype": "text/x-python",
   "name": "python",
   "nbconvert_exporter": "python",
   "pygments_lexer": "ipython3",
   "version": "3.6.3"
  }
 },
 "nbformat": 4,
 "nbformat_minor": 2
}
